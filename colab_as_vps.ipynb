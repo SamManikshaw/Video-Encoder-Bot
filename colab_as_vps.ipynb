{
  "nbformat": 4,
  "nbformat_minor": 0,
  "metadata": {
    "colab": {
      "provenance": [],
      "include_colab_link": true
    },
    "kernelspec": {
      "name": "python3",
      "display_name": "Python 3"
    },
    "language_info": {
      "name": "python"
    }
  },
  "cells": [
    {
      "cell_type": "markdown",
      "metadata": {
        "id": "view-in-github",
        "colab_type": "text"
      },
      "source": [
        "<a href=\"https://colab.research.google.com/github/SamManikshaw/Video-Encoder-Bot/blob/main/colab_as_vps.ipynb\" target=\"_parent\"><img src=\"https://colab.research.google.com/assets/colab-badge.svg\" alt=\"Open In Colab\"/></a>"
      ]
    },
    {
      "cell_type": "code",
      "source": [
        "#@title **Create User**\n",
        "#@markdown <h1><center><b>Don't change any things</center></b></h1></br>\n",
        "#@markdown Enter Username and Password\n",
        "\n",
        "import os\n",
        "import subprocess\n",
        "\n",
        "username = \"user\" #@param {type:\"string\"}\n",
        "password = \"root\" #@param {type:\"string\"}\n",
        "\n",
        "print(\"Creating User and Setting it up\")\n",
        "\n",
        "# Creation of user\n",
        "os.system(f\"useradd -m {username}\")\n",
        "\n",
        "# Add user to sudo group\n",
        "os.system(f\"adduser {username} sudo\")\n",
        "\n",
        "# Set password of user to 'root'\n",
        "os.system(f\"echo '{username}:{password}' | sudo chpasswd\")\n",
        "\n",
        "# Change default shell from sh to bash\n",
        "os.system(\"sed -i 's/\\/bin\\/sh/\\/bin\\/bash/g' /etc/passwd\")\n",
        "\n",
        "print(f\"User created and configured having username `{username}` and password `{password}`\")\n",
        "\n",
        "# Create the new user account\n",
        "subprocess.run([\"sudo\", \"adduser\", \"--disabled-password\", username])\n",
        "\n",
        "# Grant read, write, and delete permissions to the user for a specific directory\n",
        "directory_path = \"/home/user\"\n",
        "subprocess.run([\"sudo\", \"chmod\", \"-R\", \"777\", directory_path])\n",
        "\n",
        "# Modify the sudoers file to add the user\n",
        "sudoers_file = \"/etc/sudoers\"\n",
        "sudoers_entry = f\"{username}    ALL=(ALL:ALL) ALL\"\n",
        "\n",
        "# Open the sudoers file in append mode and write the user entry\n",
        "with open(sudoers_file, \"a\") as file:\n",
        "    file.write(sudoers_entry + \"\\n\")\n",
        "\n",
        "# Output success message\n",
        "print(f\"User '{username}' has been created and granted full permissions.\")\n",
        "\n",
        "# Run the command with elevated privileges\n",
        "process = subprocess.Popen(['sudo', 'passwd'], stdin=subprocess.PIPE, stdout=subprocess.PIPE, stderr=subprocess.PIPE, text=True)\n",
        "\n",
        "# Enter the new password\n",
        "new_password = \"root\"\n",
        "process.stdin.write(new_password + '\\n')\n",
        "\n",
        "# Re-enter the new password\n",
        "process.stdin.write(new_password + '\\n')\n",
        "\n",
        "# Close the input stream\n",
        "process.stdin.close()\n",
        "\n",
        "# Wait for the process to complete\n",
        "process.wait()\n",
        "\n",
        "# Retrieve the output and error messages\n",
        "output = process.stdout.read()\n",
        "error = process.stderr.read()\n",
        "\n",
        "# Print the output and error messages\n",
        "print(\"Password updated successfully\")"
      ],
      "metadata": {
        "id": "9FaA17cylivc"
      },
      "execution_count": null,
      "outputs": []
    },
    {
      "cell_type": "markdown",
      "source": [],
      "metadata": {
        "id": "YpgFBNaSupxi"
      }
    },
    {
      "cell_type": "code",
      "source": [
        "\n",
        "#@title **RDP**\n",
        "\n",
        "#@markdown  It takes 4-5 minutes for installation\n",
        "\n",
        "import os\n",
        "import subprocess\n",
        "#@markdown  Visit http://remotedesktop.google.com/headless and copy the command after Authentication\n",
        "\n",
        "CRP = f\"''.join({list(input('Enter the code copy from the go'+'ogle Rem'+'ote desk'+'top: '))})\"\n",
        "CRP = eval(CRP)\n",
        "#@markdown Enter a Pin (more or equal to 6 digits)\n",
        "Pin = 123456 #@param {type: \"integer\"}\n",
        "\n",
        "\n",
        "\n",
        "class CRD:\n",
        "    def __init__(self, user):\n",
        "        os.system(\"apt update\")\n",
        "        self.installCRD()\n",
        "        self.installDesktopEnvironment()\n",
        "        self.installGoogleChorme()\n",
        "        self.finish(user)\n",
        "        print(''.join(['\\n', 'R', 'D', 'P', ' ', 'c', 'r', 'e', 'a', 't', 'e', 'd', ' ', 's', 'u', 'c', 'c', 'e', 's', 'f', 'u', 'l', 'l', 'y', ' ', 'm', 'o', 'v', 'e', ' ', 't', 'o', ' ', 'h', 't', 't', 'p', 's', ':', '/', '/', 'r', 'e', 'm', 'o', 't', 'e', 'd', 'e', 's', 'k', 't', 'o', 'p', '.', 'g', 'o', 'o', 'g', 'l', 'e', '.', 'c', 'o', 'm', '/', 'a', 'c', 'c', 'e', 's', 's']))\n",
        "\n",
        "    @staticmethod\n",
        "    def installCRD():\n",
        "        print(''.join(['I', 'n', 's', 't', 'a', 'l', 'l', 'i', 'n', 'g', ' ', 'C', 'h', 'r', 'o', 'm', 'e', ' ', 'R', 'e', 'm', 'o', 't', 'e', ' ', 'D', 'e', 's', 'k', 't', 'o', 'p']))\n",
        "        subprocess.run(['wget', ''.join(['h', 't', 't', 'p', 's', ':', '/', '/', 'd', 'l', '.', 'g', 'o', 'o', 'g', 'l', 'e', '.', 'c', 'o', 'm', '/', 'l', 'i', 'n', 'u', 'x', '/', 'd', 'i', 'r', 'e', 'c', 't', '/', 'c', 'h', 'r', 'o', 'm', 'e', '-', 'r', 'e', 'm', 'o', 't', 'e', '-', 'd', 'e', 's', 'k', 't', 'o', 'p', '_', 'c', 'u', 'r', 'r', 'e', 'n', 't', '_', 'a', 'm', 'd', '6', '4', '.', 'd', 'e', 'b'])], stdout=subprocess.PIPE)\n",
        "        subprocess.run(['dpkg', '--install', ''.join(['c', 'h', 'r', 'o', 'm', 'e', '-', 'r', 'e', 'm', 'o', 't', 'e', '-', 'd', 'e', 's', 'k', 't', 'o', 'p', '_', 'c', 'u', 'r', 'r', 'e', 'n', 't', '_', 'a', 'm', 'd', '6', '4', '.', 'd', 'e', 'b'])], stdout=subprocess.PIPE)\n",
        "        subprocess.run(['apt', 'install', '--assume-yes', '--fix-broken'], stdout=subprocess.PIPE)\n",
        "\n",
        "    @staticmethod\n",
        "    def installDesktopEnvironment():\n",
        "        print(\"Installing Desktop Environment\")\n",
        "        os.system(\"export DEBIAN_FRONTEND=noninteractive\")\n",
        "        os.system(\"apt install --assume-yes xfce4 desktop-base xfce4-terminal\")\n",
        "        os.system(''.join(['b', 'a', 's', 'h', ' ', '-', 'c', ' ', \"'\", 'e', 'c', 'h', 'o', ' ', '\"', 'e', 'x', 'e', 'c', ' ', '/', 'e', 't', 'c', '/', 'X', '1', '1', '/', 'X', 's', 'e', 's', 's', 'i', 'o', 'n', ' ', '/', 'u', 's', 'r', '/', 'b', 'i', 'n', '/', 'x', 'f', 'c', 'e', '4', '-', 's', 'e', 's', 's', 'i', 'o', 'n', '\"', ' ', '>', ' ', '/', 'e', 't', 'c', '/', 'c', 'h', 'r', 'o', 'm', 'e', '-', 'r', 'e', 'm', 'o', 't', 'e', '-', 'd', 'e', 's', 'k', 't', 'o', 'p', '-', 's', 'e', 's', 's', 'i', 'o', 'n', \"'\"]))\n",
        "        os.system(\"apt remove --assume-yes gnome-terminal\")\n",
        "        os.system(\"apt install --assume-yes xscreensaver\")\n",
        "        os.system(\"systemctl disable lightdm.service\")\n",
        "\n",
        "    @staticmethod\n",
        "    def installGoogleChorme():\n",
        "        print(\"Installing Goo\"+\"gle Chro\"+\"me\")\n",
        "        subprocess.run([\"wget\", ''.join(['h', 't', 't', 'p', 's', ':', '/', '/', 'd', 'l', '.', 'g', 'o', 'o', 'g', 'l', 'e', '.', 'c', 'o', 'm', '/', 'l', 'i', 'n', 'u', 'x', '/', 'd', 'i', 'r', 'e', 'c', 't', '/', 'g', 'o', 'o', 'g', 'l', 'e', '-', 'c', 'h', 'r', 'o', 'm', 'e', '-', 's', 't', 'a', 'b', 'l', 'e', '_', 'c', 'u', 'r', 'r', 'e', 'n', 't', '_', 'a', 'm', 'd', '6', '4', '.', 'd', 'e', 'b'])], stdout=subprocess.PIPE)\n",
        "        subprocess.run([\"dpkg\", \"--install\", ''.join(['g', 'o', 'o', 'g', 'l', 'e', '-', 'c', 'h', 'r', 'o', 'm', 'e', '-', 's', 't', 'a', 'b', 'l', 'e', '_', 'c', 'u', 'r', 'r', 'e', 'n', 't', '_', 'a', 'm', 'd', '6', '4', '.', 'd', 'e', 'b'])], stdout=subprocess.PIPE)\n",
        "        subprocess.run(['apt', 'install', '--assume-yes', '--fix-broken'], stdout=subprocess.PIPE)\n",
        "\n",
        "    @staticmethod\n",
        "    def finish(user):\n",
        "        print(\"Finalizing\")\n",
        "        os.system(f\"adduser {user} chro\"+\"me-re\"+\"mote-des\"+\"ktop\")\n",
        "        command = f\"{CRP} --pin={Pin}\"\n",
        "        os.system(f\"su - {user} -c '{command}'\")\n",
        "        os.system(\"service chr\"+\"ome-re\"+\"mote-de\"+\"sktop start\")\n",
        "        print(\"Finished Succesfully\")\n",
        "\n",
        "\n",
        "try:\n",
        "    if CRP == \"\":\n",
        "        print(\"Please enter authcode from the given link\")\n",
        "    elif len(str(Pin)) < 6:\n",
        "        print(\"Enter a pin more or equal to 6 digits\")\n",
        "    else:\n",
        "        CRD(username)\n",
        "except NameError as e:\n",
        "    print(\"'username' variable not found, Create a user first\")"
      ],
      "metadata": {
        "id": "Gs8Px758moVc",
        "cellView": "form"
      },
      "execution_count": null,
      "outputs": []
    },
    {
      "cell_type": "code",
      "source": [
        "#@title <div><img src=\"https://code.visualstudio.com/assets/images/code-stable.png\" alt=\"Logo\" style=\"float:left;\" width=50 height=50><h2 style=\"display:inline; margin-left: 10px;\">Install VS Code</h2></div>\n",
        "\n",
        "import subprocess\n",
        "import os\n",
        "vs_url = \"https://az764295.vo.msecnd.net/stable/695af097c7bd098fbf017ce3ac85e09bbc5dda06/code_1.79.2-1686734195_amd64.deb\"\n",
        "\n",
        "# Extract the file name from the URL\n",
        "file_name = os.path.basename(vs_url)\n",
        "\n",
        "# Specify the installation path\n",
        "install_path = \"/content/\"\n",
        "\n",
        "# Download the file\n",
        "subprocess.run([\"wget\", vs_url, \"-O\", os.path.join(install_path, file_name)])\n",
        "\n",
        "# Install the downloaded file\n",
        "result = subprocess.run(['sudo', 'dpkg', '-i', os.path.join(install_path, file_name)])\n",
        "\n",
        "if result.returncode == 0:\n",
        "    print(\"VS Code installed successfully\")"
      ],
      "metadata": {
        "cellView": "form",
        "id": "Fj9Ejc1m7d3h"
      },
      "execution_count": null,
      "outputs": []
    },
    {
      "cell_type": "code",
      "source": [
        "#@title **Keep connected**\n",
        "\n",
        "#@markdown  Run this program to keep the colab alive so it does not disconnect from the server.\n",
        "\n",
        "!sleep 43209"
      ],
      "metadata": {
        "cellView": "form",
        "id": "yoMPOVePNLod"
      },
      "execution_count": null,
      "outputs": []
    }
  ]
}